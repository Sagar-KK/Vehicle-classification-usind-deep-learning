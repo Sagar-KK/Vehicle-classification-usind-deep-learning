{
 "cells": [
  {
   "cell_type": "code",
   "execution_count": 1,
   "metadata": {},
   "outputs": [],
   "source": [
    "import tensorflow as tf\n",
    "from tensorflow.keras.models import Sequential\n",
    "from tensorflow.keras.layers import Dense,Activation,Flatten,Conv2D,MaxPooling2D,SpatialDropout2D,Dropout\n",
    "import pickle"
   ]
  },
  {
   "cell_type": "code",
   "execution_count": null,
   "metadata": {},
   "outputs": [],
   "source": []
  },
  {
   "cell_type": "code",
   "execution_count": 7,
   "metadata": {},
   "outputs": [
    {
     "name": "stdout",
     "output_type": "stream",
     "text": [
      "Train on 2916 samples, validate on 325 samples\n",
      "Epoch 1/12\n",
      "2916/2916 [==============================] - 32s 11ms/sample - loss: 1.3386 - acc: 0.3162 - val_loss: 1.1987 - val_acc: 0.5231\n",
      "Epoch 2/12\n",
      "2916/2916 [==============================] - 32s 11ms/sample - loss: 1.1709 - acc: 0.4746 - val_loss: 1.0469 - val_acc: 0.5754\n",
      "Epoch 3/12\n",
      "2916/2916 [==============================] - 31s 11ms/sample - loss: 1.0239 - acc: 0.5535 - val_loss: 0.8407 - val_acc: 0.6369\n",
      "Epoch 4/12\n",
      "2916/2916 [==============================] - 32s 11ms/sample - loss: 0.8975 - acc: 0.6217 - val_loss: 0.7592 - val_acc: 0.6831\n",
      "Epoch 5/12\n",
      "2916/2916 [==============================] - 34s 12ms/sample - loss: 0.8174 - acc: 0.6447 - val_loss: 0.7251 - val_acc: 0.7108\n",
      "Epoch 6/12\n",
      "2916/2916 [==============================] - 32s 11ms/sample - loss: 0.7517 - acc: 0.6900 - val_loss: 0.7468 - val_acc: 0.6862\n",
      "Epoch 7/12\n",
      "2916/2916 [==============================] - 33s 11ms/sample - loss: 0.6788 - acc: 0.7281 - val_loss: 0.6623 - val_acc: 0.7015\n",
      "Epoch 8/12\n",
      "2916/2916 [==============================] - 32s 11ms/sample - loss: 0.6263 - acc: 0.7455 - val_loss: 0.6436 - val_acc: 0.7231\n",
      "Epoch 9/12\n",
      "2916/2916 [==============================] - 32s 11ms/sample - loss: 0.6001 - acc: 0.7497 - val_loss: 0.5842 - val_acc: 0.7569\n",
      "Epoch 10/12\n",
      "2916/2916 [==============================] - 31s 11ms/sample - loss: 0.5413 - acc: 0.7843 - val_loss: 0.6109 - val_acc: 0.7846\n",
      "Epoch 11/12\n",
      "2916/2916 [==============================] - 35s 12ms/sample - loss: 0.5092 - acc: 0.7963 - val_loss: 0.6112 - val_acc: 0.7754\n",
      "Epoch 12/12\n",
      "2916/2916 [==============================] - 32s 11ms/sample - loss: 0.4553 - acc: 0.8234 - val_loss: 0.6466 - val_acc: 0.7600\n"
     ]
    },
    {
     "data": {
      "text/plain": [
       "<tensorflow.python.keras.callbacks.History at 0x1d773160eb8>"
      ]
     },
     "execution_count": 7,
     "metadata": {},
     "output_type": "execute_result"
    }
   ],
   "source": [
    "X=pickle.load(open(\"X.pickle\",\"rb\"))\n",
    "y=pickle.load(open(\"y.pickle\",\"rb\"))\n",
    "\n",
    "X=X/255\n",
    "\n",
    "model=Sequential()\n",
    "\n",
    "model.add(Conv2D(64,(3,3),input_shape=X.shape[1:]))\n",
    "model.add(Activation(\"relu\"))\n",
    "model.add(MaxPooling2D(pool_size=(2,2)))\n",
    "          \n",
    "\n",
    "model.add(Conv2D(64 ,(3,3)))\n",
    "model.add(Activation(\"relu\"))\n",
    "model.add(MaxPooling2D(pool_size=(2,2)))\n",
    "\n",
    "model.add(Conv2D(64 ,(3,3)))\n",
    "model.add(Activation(\"relu\"))\n",
    "\n",
    "model.add(Conv2D(64 ,(3,3)))\n",
    "model.add(Activation(\"relu\"))\n",
    "\n",
    "model.add(Conv2D(64 ,(3,3)))\n",
    "model.add(Activation(\"relu\"))\n",
    "model.add(MaxPooling2D(pool_size=(2,2)))\n",
    "\n",
    "model.add(Flatten())\n",
    "model.add(Dense(64))\n",
    "model.add(Activation(\"relu\"))\n",
    "model.add(Dropout(.2))\n",
    "\n",
    "model.add(Flatten())\n",
    "model.add(Dense(64))\n",
    "model.add(Activation(\"relu\"))\n",
    "model.add(Dropout(.2))\n",
    "          \n",
    "model.add(Dense(4, activation='softmax'))\n",
    "model.compile(loss='sparse_categorical_crossentropy',optimizer=\"adam\",metrics=['accuracy'])\n",
    "\n",
    "          \n",
    "model.fit(X,y,epochs=12,batch_size=32,validation_split=0.1)\n"
   ]
  },
  {
   "cell_type": "markdown",
   "metadata": {},
   "source": []
  },
  {
   "cell_type": "code",
   "execution_count": 8,
   "metadata": {},
   "outputs": [],
   "source": [
    "model.save('64x2-CNN.model')"
   ]
  },
  {
   "cell_type": "code",
   "execution_count": 19,
   "metadata": {},
   "outputs": [
    {
     "name": "stdout",
     "output_type": "stream",
     "text": [
      "Case #1: 2\n"
     ]
    }
   ],
   "source": [
    "i=1\n",
    "count=2\n",
    "print(\"Case #{}: {}\".format(i,count))"
   ]
  },
  {
   "cell_type": "code",
   "execution_count": null,
   "metadata": {},
   "outputs": [],
   "source": []
  }
 ],
 "metadata": {
  "kernelspec": {
   "display_name": "Python 3",
   "language": "python",
   "name": "python3"
  },
  "language_info": {
   "codemirror_mode": {
    "name": "ipython",
    "version": 3
   },
   "file_extension": ".py",
   "mimetype": "text/x-python",
   "name": "python",
   "nbconvert_exporter": "python",
   "pygments_lexer": "ipython3",
   "version": "3.7.3"
  }
 },
 "nbformat": 4,
 "nbformat_minor": 2
}
